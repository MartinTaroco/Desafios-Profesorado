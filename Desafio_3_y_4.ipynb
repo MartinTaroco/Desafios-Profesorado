{
  "nbformat": 4,
  "nbformat_minor": 0,
  "metadata": {
    "colab": {
      "provenance": []
    },
    "kernelspec": {
      "name": "python3",
      "display_name": "Python 3"
    },
    "language_info": {
      "name": "python"
    }
  },
  "cells": [
    {
      "cell_type": "markdown",
      "source": [
        "#Desafios 3 y 4 - Martín Taroco"
      ],
      "metadata": {
        "id": "JgmQdQOvCUCU"
      }
    },
    {
      "cell_type": "markdown",
      "source": [
        "## Desafío 4: Verificar múltiplos de varios números\n",
        "Crear un programa que, dado un número, verifique si es múltiplo de: 2, 3, 5, 7, 9, 10 y 11. Imprimir un mensaje por cada verificación."
      ],
      "metadata": {
        "id": "GKZkZ5BzCZuD"
      }
    },
    {
      "cell_type": "code",
      "execution_count": 3,
      "metadata": {
        "colab": {
          "base_uri": "https://localhost:8080/"
        },
        "id": "XS_9QulU-jBE",
        "outputId": "a519ef9a-c940-49ef-b1e8-337c8b3bb6d0"
      },
      "outputs": [
        {
          "output_type": "stream",
          "name": "stdout",
          "text": [
            "30 es multiplo de 2\n",
            "30 es multiplo de 3\n",
            "30 es multiplo de 5\n",
            "30 no es multiplo de 7\n",
            "30 no es multiplo de 9\n",
            "30 es multiplo de 10\n",
            "30 no es multiplo de 11\n",
            "None\n"
          ]
        }
      ],
      "source": [
        "def multiplos (q):                  #Función que toma el número entero a verificar.\n",
        "  lista_multiplos = [2, 3, 5, 7, 9, 10, 11]    #Lista con los divisores deseados\n",
        "  for m in lista_multiplos:                         #Iterador de la lista para acceder a cada divisor\n",
        "    if q % m == 0:                                #Si el entero deja módulo 0 con el divisor quiere decir que es un múltiplo del mismo\n",
        "     print (f\"{q} es multiplo de {m}\")\n",
        "    else:                                         #Sí el número entero dado deja un módulo diferente a 0 con el divisor no es un múltiplo del mismo.\n",
        "     print (f\"{q} no es multiplo de {m}\")\n",
        "\n",
        "\n",
        "resultado_multiplos = multiplos(30)                      #Se le da a la función el número deseado\n",
        "print (resultado_multiplos)                              # Se imprime en la consola la verifcación"
      ]
    },
    {
      "cell_type": "markdown",
      "source": [
        "El enunciado del desafio solicita crear un programa que verifique si un número dado es múltiplo o no de números predeterminados.\n",
        "Cree una función que admite una variable q, un número entero, dentro de la misma cree una lista con los números 2, 3, 5, 7, 9, 10 y 11 con el objetivo de iterar en ella con un for y dentro de este for cree un condicional if que verifica si el valor aportado por el usario deja módulo 0 con algunos de los elementos iterados de la lista, si es así quiere decir que el valor aportado es múltiplo del mismo de lo contrario pasa al else que descarta la opción de que sea un múltiplo.\n",
        "\n",
        "Los tipos de datos utilizados son enteros (int), listas (int) y strings (strg)\n",
        "Los tipos de operadores utilizados fueron módulos (%) y igual a (==).\n",
        "\n",
        "Quizá al código le falte validar que el dato aportado sea un número entero"
      ],
      "metadata": {
        "id": "9hl9Z-yACr4L"
      }
    },
    {
      "cell_type": "code",
      "source": [],
      "metadata": {
        "id": "lO0su3jMCTe2"
      },
      "execution_count": null,
      "outputs": []
    },
    {
      "cell_type": "markdown",
      "source": [
        "##Desafío 3: Convertidor de temperaturas\n",
        "Realizar conversiones de una temperatura dada en Celsius a Fahrenheit y Kelvin utilizando operaciones directas sobre variables."
      ],
      "metadata": {
        "id": "Zq2UVHzyGJh7"
      }
    },
    {
      "cell_type": "code",
      "source": [
        "def conversor(grados):                  #Defino la función que toma una temperatura en celsius\n",
        "  fahrenheit = grados * 9/5 + 32                   #La trasnforma a fahrenheit\n",
        "  kelvin = grados + 273.15                        #La trasnforma a kelvin\n",
        "\n",
        "  return fahrenheit, kelvin                        #Retorna la temperatura ya convertida\n",
        "\n",
        "\n",
        "resultados = conversor (37.5)                      #Se le da la temperatura en celsius deseada\n",
        "\n",
        "print(f\"Equivale a {resultados[0]} grados Fahrenheit y {resultados[1]} grados Kelvin \")   #imprime en la consola la conversión"
      ],
      "metadata": {
        "colab": {
          "base_uri": "https://localhost:8080/"
        },
        "id": "l8t-3tjiGHgU",
        "outputId": "057fbf94-dca8-4adf-ec96-1e47a51fde0e"
      },
      "execution_count": 2,
      "outputs": [
        {
          "output_type": "stream",
          "name": "stdout",
          "text": [
            "Equivale a 99.5 grados Fahrenheit y 310.65 grados Kelvin \n"
          ]
        }
      ]
    },
    {
      "cell_type": "markdown",
      "source": [
        " Mi conversor de temperaturas consta de una función a la cual se le da un grado celsius, la misma toma ese valor y en dos variables utilizando las operaciones correspondientes lo trasnforma a grados fahrenheit y kelvin, luego retorna ambos resultados.\n",
        "\n",
        " Los tipos de datos usados son int, float y strg, y los operadores son la multiplicacón, suma y división.\n",
        "\n",
        " Quizá al código le falte validar que el dato aportado sea un número."
      ],
      "metadata": {
        "id": "PQbvmIfWIKT9"
      }
    }
  ]
}